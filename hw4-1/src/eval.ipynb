{
 "cells": [
  {
   "cell_type": "code",
   "execution_count": 3,
   "metadata": {},
   "outputs": [],
   "source": [
    "from time import time\n",
    "import matplotlib.pyplot as plt\n",
    "import torch\n",
    "from torch import nn, optim\n",
    "import torchvision\n",
    "import torchvision.datasets as datasets\n",
    "from torchvision.transforms import ToTensor"
   ]
  },
  {
   "attachments": {},
   "cell_type": "markdown",
   "metadata": {},
   "source": [
    "Load fitted model"
   ]
  },
  {
   "cell_type": "code",
   "execution_count": 23,
   "metadata": {},
   "outputs": [],
   "source": [
    "model = torch.load(\"./mnist_fitted_model.pt\")"
   ]
  },
  {
   "attachments": {},
   "cell_type": "markdown",
   "metadata": {},
   "source": [
    "Load test set and iterator for test set"
   ]
  },
  {
   "cell_type": "code",
   "execution_count": 24,
   "metadata": {},
   "outputs": [],
   "source": [
    "mnist_testset = datasets.MNIST(root='.', train=False, download=True, transform=ToTensor())\n",
    "test_loader = torch.utils.data.DataLoader(mnist_testset, batch_size=32, shuffle=True)"
   ]
  },
  {
   "attachments": {},
   "cell_type": "markdown",
   "metadata": {},
   "source": [
    "Predictions and true labels for one batch of test images"
   ]
  },
  {
   "cell_type": "code",
   "execution_count": 19,
   "metadata": {},
   "outputs": [
    {
     "name": "stdout",
     "output_type": "stream",
     "text": [
      "Predicted lable: 9. True label: 9\n",
      "Predicted lable: 1. True label: 1\n",
      "Predicted lable: 9. True label: 9\n",
      "Predicted lable: 7. True label: 7\n",
      "Predicted lable: 0. True label: 0\n",
      "Predicted lable: 9. True label: 9\n",
      "Predicted lable: 4. True label: 4\n",
      "Predicted lable: 1. True label: 1\n",
      "Predicted lable: 2. True label: 2\n",
      "Predicted lable: 1. True label: 1\n",
      "Predicted lable: 3. True label: 3\n",
      "Predicted lable: 2. True label: 2\n",
      "Predicted lable: 4. True label: 4\n",
      "Predicted lable: 8. True label: 8\n",
      "Predicted lable: 0. True label: 0\n",
      "Predicted lable: 3. True label: 3\n",
      "Predicted lable: 7. True label: 7\n",
      "Predicted lable: 4. True label: 4\n",
      "Predicted lable: 8. True label: 8\n",
      "Predicted lable: 0. True label: 0\n",
      "Predicted lable: 3. True label: 3\n",
      "Predicted lable: 9. True label: 9\n",
      "Predicted lable: 3. True label: 3\n",
      "Predicted lable: 7. True label: 7\n",
      "Predicted lable: 7. True label: 7\n",
      "Predicted lable: 1. True label: 1\n",
      "Predicted lable: 9. True label: 9\n",
      "Predicted lable: 1. True label: 1\n",
      "Predicted lable: 1. True label: 1\n",
      "Predicted lable: 5. True label: 5\n",
      "Predicted lable: 1. True label: 1\n",
      "Predicted lable: 0. True label: 0\n"
     ]
    }
   ],
   "source": [
    "images, labels = next(iter(test_loader))\n",
    "\n",
    "for i in range(len(labels)):\n",
    "  img = images[i].view(1, 784)\n",
    "  with torch.no_grad():\n",
    "      logps = model(img)\n",
    "  \n",
    "  ps = torch.exp(logps)\n",
    "  probab = list(ps.numpy()[0])\n",
    "  pred_label = probab.index(max(probab))\n",
    "  true_label = labels.numpy()[i]\n",
    "  #print(f\"Predicted probs: {probab}\")\n",
    "  print(f\"Predicted label: {pred_label}. True label: {true_label}\")"
   ]
  },
  {
   "cell_type": "code",
   "execution_count": 25,
   "metadata": {},
   "outputs": [
    {
     "name": "stdout",
     "output_type": "stream",
     "text": [
      "Number Of Images Tested = 10000\n",
      "Model Accuracy = 0.9646\n"
     ]
    }
   ],
   "source": [
    "correct_count, all_count = 0, 0\n",
    "for images,labels in test_loader:\n",
    "  for i in range(len(labels)):\n",
    "    img = images[i].view(1, 784)\n",
    "    with torch.no_grad():\n",
    "        logps = model(img)\n",
    "\n",
    "    ps = torch.exp(logps)\n",
    "    probab = list(ps.numpy()[0])\n",
    "    pred_label = probab.index(max(probab))\n",
    "    true_label = labels.numpy()[i]\n",
    "    if(true_label == pred_label):\n",
    "      correct_count += 1\n",
    "    all_count += 1\n",
    "\n",
    "print(\"Number Of Images Tested =\", all_count)\n",
    "print(f\"Model Accuracy = {(correct_count/all_count)}\")\n"
   ]
  },
  {
   "cell_type": "code",
   "execution_count": 187,
   "metadata": {},
   "outputs": [],
   "source": [
    "##Build model myself\n",
    "input_size = 784\n",
    "hidden_sizes = [300, 200]\n",
    "output_size = 10\n",
    "\n",
    "class my_model():\n",
    "    \n",
    "    def __init__(self):\n",
    "        \n",
    "        #converting weights to a 3 by 1 matrix with values from -1 to 1 and mean of 0\n",
    "        self.W1 = 2 * torch.rand([hidden_sizes[0], input_size]) - 1\n",
    "        self.b1 = 2 * torch.rand(hidden_sizes[0]) - 1\n",
    "\n",
    "        self.W2 = 2 * torch.rand([hidden_sizes[1], hidden_sizes[0]]) - 1\n",
    "        self.b2 = 2 * torch.rand(hidden_sizes[1]) - 1\n",
    "\n",
    "        self.W3 = 2 * torch.rand([output_size, hidden_sizes[1]]) - 1\n",
    "        self.b3 = 2 * torch.rand(output_size) - 1\n",
    "\n",
    "\n",
    "    def stable_softmax(self, z):\n",
    "\n",
    "        exps = torch.exp(z - torch.max(z))\n",
    "        return exps / torch.sum(exps)\n",
    "    \n",
    "    def feedforward(self, x):\n",
    "\n",
    "        z1 = torch.matmul(self.W1, x) + self.b1\n",
    "        a1 = torch.sigmoid(z1)\n",
    "\n",
    "        z2 = torch.matmul(self.W2, a1) + self.b2\n",
    "        a2 = torch.sigmoid(z2)\n",
    "\n",
    "        z3 = torch.matmul(self.W3, a2) + self.b3\n",
    "        yhat = self.stable_softmax(z3)\n",
    "\n",
    "        return yhat\n",
    "\n",
    "    \n",
    "    def backprop(self, x, y):\n",
    "        \"\"\"\n",
    "        - x is a single image (vector of length 784)\n",
    "        - y is one-hot-encoding of true digit (vector of length 10)\n",
    "        \"\"\"\n",
    "\n",
    "        z1 = torch.matmul(self.W1, x) + self.b1\n",
    "        a1 = torch.sigmoid(z1)\n",
    "\n",
    "        z2 = torch.matmul(self.W2, a1) + self.b2\n",
    "        a2 = torch.sigmoid(z2)\n",
    "\n",
    "        z3 = torch.matmul(self.W3, a2) + self.b3\n",
    "        yhat = self.stable_softmax(z3)\n",
    "\n",
    "        loss = -torch.sum(y * torch.log(yhat))\n",
    "\n",
    "        grad_b3 = yhat - y\n",
    "        #print(grad_b3.shape)\n",
    "        #print(a2.T.shape)\n",
    "        grad_W3 = torch.outer(grad_b3, a2)\n",
    "        grad_b2 =  torch.sigmoid(torch.matmul(torch.t(self.W3), grad_b3)) * (1 - torch.sigmoid(torch.matmul(torch.t(self.W3), grad_b3)))\n",
    "        grad_W2 = torch.outer(grad_b2, a1)\n",
    "        grad_b1 = torch.sigmoid(torch.matmul(torch.t(self.W2), grad_b2)) * (1 - torch.sigmoid(torch.matmul(torch.t(self.W2), grad_b2)))\n",
    "        grad_W1 = torch.outer(grad_b1, x)\n",
    "\n",
    "        bias_grads = [grad_b1, grad_b2, grad_b3]\n",
    "        weight_grads = [grad_W1, grad_W2, grad_W3]\n",
    "\n",
    "        return {\"bias\": bias_grads, \"weight\" : weight_grads, \"loss\": loss}\n",
    "    \n",
    "\n",
    "    def batch_descent(self, images, labels, lr):\n",
    "        \"\"\"\n",
    "        Performs a step of gradient descent from a batch of training data.\n",
    "        - images are images of the batch\n",
    "        - labels are the lables of the images in the batch\n",
    "        - lr is the learning rate\n",
    "        \"\"\"\n",
    "\n",
    "        # Flatten MNIST images into a 784 long vector\n",
    "        images = images.view(images.shape[0], -1)\n",
    "        \n",
    "        batch_W1_grad = torch.zeros(self.W1.shape)\n",
    "        batch_b1_grad = torch.zeros(self.b1.shape)\n",
    "        batch_W2_grad = torch.zeros(self.W2.shape)\n",
    "        batch_b2_grad = torch.zeros(self.b2.shape)\n",
    "        batch_W3_grad = torch.zeros(self.W3.shape)\n",
    "        batch_b3_grad = torch.zeros(self.b3.shape)\n",
    "\n",
    "        batch_loss = 0\n",
    "        for (image, label) in zip(images, labels):\n",
    "            \n",
    "            #One hot encode label\n",
    "            label_vec = torch.zeros(output_size)\n",
    "            label_vec[label] = 1\n",
    "\n",
    "            single_grads = self.backprop(image, label_vec)\n",
    "            batch_loss += single_grads[\"loss\"]\n",
    "\n",
    "            batch_W1_grad = batch_W1_grad + single_grads[\"weight\"][0]\n",
    "            batch_W2_grad = batch_W2_grad + single_grads[\"weight\"][1]\n",
    "            batch_W3_grad = batch_W3_grad + single_grads[\"weight\"][2]\n",
    "\n",
    "            batch_b1_grad = batch_b1_grad + single_grads[\"bias\"][0]\n",
    "            batch_b2_grad = batch_b2_grad + single_grads[\"bias\"][1]\n",
    "            batch_b3_grad = batch_b3_grad + single_grads[\"bias\"][2]\n",
    "\n",
    "        d = len(images)\n",
    "        self.W1 = self.W1 - lr/d * batch_W1_grad\n",
    "        self.W2 = self.W2 - lr/d * batch_W2_grad\n",
    "        self.W3 = self.W3 - lr/d * batch_W3_grad\n",
    "\n",
    "        self.b1 = self.b1 - lr/d * batch_b1_grad\n",
    "        self.b2 = self.b2 - lr/d * batch_b2_grad\n",
    "        self.b3 = self.b3 - lr/d * batch_b3_grad\n",
    "\n",
    "        return batch_loss\n",
    "    \n",
    "    def train(self, epochs, mnist_trainset, bs, lr):\n",
    "\n",
    "        time0 = time()\n",
    "        losses = []\n",
    "        for e in range(epochs):\n",
    "            \n",
    "            running_loss = 0\n",
    "            \n",
    "            for images, labels in trainloader:\n",
    "\n",
    "                batch_loss = self.batch_descent(images, labels, lr)\n",
    "                running_loss += batch_loss\n",
    "            \n",
    "            else: \n",
    "                print(f\"Epoch {e} - Training loss: {running_loss/len(trainloader)}\")\n",
    "                losses.append(running_loss/len(trainloader))\n",
    "\n",
    "        print(f\"Training Time (in minutes) = {(time()-time0)/60}\")\n",
    "        return losses"
   ]
  },
  {
   "cell_type": "code",
   "execution_count": 5,
   "metadata": {},
   "outputs": [],
   "source": [
    "#Download the data\n",
    "mnist_trainset = datasets.MNIST(root='..', train=True, download=True, transform=ToTensor())\n",
    "mnist_testset = datasets.MNIST(root='..', train=False, download=True, transform=ToTensor())"
   ]
  },
  {
   "cell_type": "code",
   "execution_count": 188,
   "metadata": {},
   "outputs": [],
   "source": [
    "my_mod = my_model()"
   ]
  },
  {
   "cell_type": "code",
   "execution_count": 189,
   "metadata": {},
   "outputs": [
    {
     "name": "stdout",
     "output_type": "stream",
     "text": [
      "Epoch 0 - Training loss: 81.40519714355469\n",
      "Epoch 1 - Training loss: 75.18326568603516\n",
      "Epoch 2 - Training loss: 75.15619659423828\n",
      "Epoch 3 - Training loss: 75.21085357666016\n",
      "Training Time (in minutes) = 2.290990189711253\n"
     ]
    },
    {
     "data": {
      "text/plain": [
       "[tensor(81.4052), tensor(75.1833), tensor(75.1562), tensor(75.2109)]"
      ]
     },
     "execution_count": 189,
     "metadata": {},
     "output_type": "execute_result"
    }
   ],
   "source": [
    "my_mod.train(4, mnist_trainset, 32, .1)"
   ]
  },
  {
   "cell_type": "code",
   "execution_count": 191,
   "metadata": {},
   "outputs": [
    {
     "name": "stdout",
     "output_type": "stream",
     "text": [
      "Number Of Images Tested = 10000\n",
      "Model Accuracy = 0.1135\n"
     ]
    }
   ],
   "source": [
    "testloader = torch.utils.data.DataLoader(mnist_testset, batch_size=32, shuffle=True)\n",
    "\n",
    "correct_count, all_count = 0, 0\n",
    "for images,labels in testloader:\n",
    "  for i in range(len(labels)):\n",
    "    img = images[i].view(784, 1)\n",
    "    ps = my_mod.feedforward(img)\n",
    "    probab = list(ps.numpy())\n",
    "    \n",
    "    pred_label = probab.index(max(probab))\n",
    "    true_label = labels.numpy()[i]\n",
    "    if(true_label == pred_label):\n",
    "      correct_count += 1\n",
    "    all_count += 1\n",
    "\n",
    "print(\"Number Of Images Tested =\", all_count)\n",
    "print(f\"Model Accuracy = {(correct_count/all_count)}\")"
   ]
  },
  {
   "cell_type": "code",
   "execution_count": null,
   "metadata": {},
   "outputs": [],
   "source": []
  }
 ],
 "metadata": {
  "kernelspec": {
   "display_name": "torch-gpu",
   "language": "python",
   "name": "python3"
  },
  "language_info": {
   "codemirror_mode": {
    "name": "ipython",
    "version": 3
   },
   "file_extension": ".py",
   "mimetype": "text/x-python",
   "name": "python",
   "nbconvert_exporter": "python",
   "pygments_lexer": "ipython3",
   "version": "3.8.16"
  },
  "orig_nbformat": 4
 },
 "nbformat": 4,
 "nbformat_minor": 2
}
